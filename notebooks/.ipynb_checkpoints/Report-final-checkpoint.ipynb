{
 "cells": [
  {
   "cell_type": "markdown",
   "metadata": {},
   "source": [
    "## Project Statement"
   ]
  },
  {
   "cell_type": "markdown",
   "metadata": {},
   "source": [
    "The US suffers from incredibly high rates of violent crime as compared to other OECD countries, despite having the highest punishment (incarceration rate) in the OECD. Recent well-publicized events in Las Vegas, New York City, and Sutherland Springs, TX, as well as the recent uptick in crime in some major metropolitans (e.g. Chicago), have pushed the violent crime to the forefront of political debate. Despite the large, and growing, interest in understanding crime in the US, we are often presented with incomplete information about violent crime data in order to serve a particular agenda. The goal of this project is to propose, build, and evaluate a data-driven model for predicting the number of murders in metropolitan regions using publicly available crime and census data."
   ]
  },
  {
   "cell_type": "markdown",
   "metadata": {},
   "source": [
    "## Introduction"
   ]
  },
  {
   "cell_type": "markdown",
   "metadata": {},
   "source": [
    "The importance of predicting crime rates in US metropolitan areas is almost self-evident. Most crime happens in large metropolitans and having accurate predictive data on where crime is likely to occur can help optimize enforcement efforts, and hopefully, reduce crime. The problem is that the causes of crime are extremely hard to deduce due to the un-observability of important potential drivers (e.g. corruption of police force) and the complex nature of the problem (e.g. does crime cause poverty or is crime caused by poverty? Both are likely to be true), as well as the ethical and legal constraints on experimentation. What’s more, many of the potential drivers of crime are highly correlated, lower income is correlated with lower education levels, and both are correlated with crime. That is why, even though theoretical research has identified multiple possible causes for violent crime, proof of causality (as well as measurement of effect size) is elusive. To circumvent these problems, this project focuses on predicting violent crime, and in particular murder rates, from observable demographic data.\n",
    "Micro-level (person) demographic data was obtained from the US Census via IPUMS (Steven Ruggles, Katie Genadek, Ronald Goeken, Josiah Grover, and Matthew Sobek. Integrated Public Use Microdata Series: Version 7.0 [dataset]. Minneapolis: University of Minnesota, 2017. https://doi.org/10.18128/D010.V7.0.). Though summary metro-level data was available directly from the Census ACS series, it suffered from inconsistent definitions, codes and variable names across different years in our sample (2006-2016). Rather that dive into the different codes and definitions used by the Census to produce the metro level data in the ACS series, we downloaded the ACS micro-level directly from IPUMS – a project dedicated to publishing Census micro-level data while maintaining consistent variable definitions and codes across years. We then use the micro-level data to produce metropolitan-level summary information for each year. To our surprise, doing so not only reduced measurement error by holding the summary variables definitions constant, but also provided us with more metro-year data points than the Census’ ACS summary data, even though IPUMS data only covers 2006-2015 (2630 vs. 814 metro-years). We believe trading off one year of observation in favor of increasing our sample by a factor of 3 is a worthwhile endeavor. \n",
    "\n",
    "Among violent crimes we focus particularly on the murder rate, as it is the most reliable statistic. While different groups may report robberies and assaults at different rates, it is hard to hide a body. Therefore, by predicting murder rates, one can learn a lot about the underlying socioeconomic and geographic factors that lead to murder. The FBI website has yearly crime data by Metropolitan Statistical Area, where the crime is differentiated by type and recorded by incidents per 100,000 residents. Using a Python scraper we were able to iterate through the website to select this datatable for every year from 2006-2016. \n",
    "\n",
    "The IPUMS data and the FBI data was combined using pandas merging. The state was parsed out, and the main country that made up the MSA. Then the data was merged on those two categories and the year. While the FBI data was larger than the IPUMS, we found that the IPUMS data merged over 2400 of the 2600 entries, for over 90% success. \n",
    "\n",
    "\n",
    "Preliminary EDA (presented in the EDA tab above) suggested that murder rates in US metropolitan areas are positively correlated with city size, unemployment, poverty, income inequality and the percentage of single parent households (a common predictor in the crime literature). It is negatively correlated with median household income, percentage of homeownership, and education (measured both as percentage of high school graduates, and 4-year college graduates). EDA also suggested both regional and metro level differences in murder rates. The average murder rate in the South-East is almost twice the average murder rate in the North-East, and while the murder rate in some metropolitan areas is extremely low, it’s over 20 homicides per 100,000 residents in New Orleans. Finally, following the recent political debate over the relationship (or lack thereof) between crime and immigration, we have decided to incorporate proxies for immigration in our data (percentage of non-citizens, and residents whose primary language is not English). Preliminary EDA suggests a weak positive relationship between proxies for immigration and murder rates. We believe this relationship is driven by the fact that larger metropolitans (which have historically had higher murder rates) also attract more immigrants.\n",
    "\n",
    "\n",
    "\n"
   ]
  },
  {
   "cell_type": "markdown",
   "metadata": {},
   "source": [
    "## Literature Review"
   ]
  },
  {
   "cell_type": "markdown",
   "metadata": {},
   "source": [
    "Insight on which demographic variables are used in the literature to predict crime were gathered from Gleaser and Sacerdote, Why Is There More Crime in Cities?, Journal of Political Economy, 1999, vol. 107, no. 6, pt. 2, and insights on the relationship between inequality and crime were gleaned from Kelly, Inequality and Crime, Review of Economics and Statistics Volume 82, Issue 4, November 2000 p.530-539. Finally, information about the US’ unique standing at the top of the OECD crime and incarceration rates, was gathered from Spamann, The US Crime Puzzle: A Comparative Large-N Perspective on US Crime & Punishment (Working paper)"
   ]
  },
  {
   "cell_type": "markdown",
   "metadata": {
    "collapsed": true
   },
   "source": [
    "## Model Approach and Trajectory"
   ]
  },
  {
   "cell_type": "markdown",
   "metadata": {},
   "source": [
    "While the census data is all useful, it was necessary to clean it further before a model could be build. To do this, we parsed the obvious numeric categories, dropped all the FBI data except for the murder rate, categorized the states in the specific regions, and transformed the other obvious categorical variables using dummies. \n",
    "\n",
    "Next, we tried out the preliminary linear regression types, including normal linear regression, ridge regression, and lasso regression. This does not seem like a problem well designed for polynomial terms as there are a large number of factors correlated specifically with metropolitian areas."
   ]
  },
  {
   "cell_type": "code",
   "execution_count": null,
   "metadata": {
    "collapsed": true
   },
   "outputs": [],
   "source": []
  }
 ],
 "metadata": {
  "anaconda-cloud": {},
  "kernelspec": {
   "display_name": "Python 3",
   "language": "python",
   "name": "python3"
  },
  "language_info": {
   "codemirror_mode": {
    "name": "ipython",
    "version": 3
   },
   "file_extension": ".py",
   "mimetype": "text/x-python",
   "name": "python",
   "nbconvert_exporter": "python",
   "pygments_lexer": "ipython3",
   "version": "3.6.1"
  }
 },
 "nbformat": 4,
 "nbformat_minor": 2
}
