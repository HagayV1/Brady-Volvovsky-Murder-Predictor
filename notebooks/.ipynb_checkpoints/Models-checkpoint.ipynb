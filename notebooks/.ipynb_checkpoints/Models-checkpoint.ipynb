{
 "cells": [
  {
   "cell_type": "markdown",
   "metadata": {},
   "source": [
    "# Models"
   ]
  },
  {
   "cell_type": "code",
   "execution_count": 1,
   "metadata": {
    "collapsed": true,
    "hide": true
   },
   "outputs": [],
   "source": [
    "import numpy as np\n",
    "import pandas as pd\n",
    "import matplotlib\n",
    "import matplotlib.pyplot as plt\n",
    "import sklearn.metrics as metrics\n",
    "import math\n",
    "from sklearn.linear_model import LinearRegression\n",
    "from sklearn.linear_model import RidgeCV\n",
    "from sklearn.linear_model import LassoCV\n",
    "from sklearn.model_selection import cross_val_score\n",
    "from sklearn import tree\n",
    "from sklearn.tree import DecisionTreeRegressor\n",
    "from sklearn.ensemble import RandomForestRegressor\n",
    "from sklearn.ensemble import GradientBoostingRegressor\n",
    "from sklearn.linear_model import LogisticRegressionCV\n",
    "from sklearn.model_selection import cross_val_score\n",
    "from sklearn.model_selection import KFold\n",
    "from sklearn.model_selection import GridSearchCV\n",
    "from sklearn.model_selection import train_test_split\n",
    "from sklearn.metrics import mean_squared_error\n",
    "from itertools import product\n",
    "from collections import OrderedDict\n",
    "from scipy.stats import norm\n",
    "import seaborn as sns"
   ]
  },
  {
   "cell_type": "code",
   "execution_count": 2,
   "metadata": {
    "collapsed": true
   },
   "outputs": [],
   "source": [
    "data = pd.read_csv('data_final.csv')\n",
    "# drop unnecessary columns\n",
    "data = data.drop(['Unnamed: 0', 'Violent Crime', 'Rape', 'Robbery', 'Burglary', \n",
    "                  'Aggravated Assault', 'Property Crime', 'Larceny-theft', \n",
    "                  'Motor Vehicle Theft', 'State'], axis=1)"
   ]
  },
  {
   "cell_type": "code",
   "execution_count": 3,
   "metadata": {
    "collapsed": true
   },
   "outputs": [],
   "source": [
    "X = data.drop(['Murder and nonnegligent manslaughter'], axis=1)\n",
    "Y = data['Murder and nonnegligent manslaughter']"
   ]
  },
  {
   "cell_type": "code",
   "execution_count": 4,
   "metadata": {
    "collapsed": true
   },
   "outputs": [],
   "source": [
    "xtrain, xtest, ytrain, ytest = train_test_split(X, Y, test_size = 0.3)"
   ]
  },
  {
   "cell_type": "markdown",
   "metadata": {},
   "source": [
    "## Baseline Model: Linear Regression"
   ]
  },
  {
   "cell_type": "code",
   "execution_count": 5,
   "metadata": {},
   "outputs": [
    {
     "name": "stdout",
     "output_type": "stream",
     "text": [
      "Linear Regression estimator's score on the training set is: 0.783373293114\n",
      "Linear Regression estimator's score on the test set is: 0.705385591167\n"
     ]
    }
   ],
   "source": [
    "linear = LinearRegression(fit_intercept=True).fit(xtrain, ytrain)\n",
    "\n",
    "print('Linear Regression estimator\\'s score on the training set is:',\n",
    "     linear.score(xtrain, ytrain))\n",
    "\n",
    "print('Linear Regression estimator\\'s score on the test set is:',\n",
    "     linear.score(xtest, ytest))"
   ]
  },
  {
   "cell_type": "markdown",
   "metadata": {},
   "source": [
    "It appears that the Linear Regression does a decent job on both the training and test set"
   ]
  },
  {
   "cell_type": "markdown",
   "metadata": {},
   "source": [
    "## Alternative Regression Approaches"
   ]
  },
  {
   "cell_type": "markdown",
   "metadata": {},
   "source": [
    "### Lasso Regression"
   ]
  },
  {
   "cell_type": "code",
   "execution_count": 6,
   "metadata": {},
   "outputs": [
    {
     "name": "stdout",
     "output_type": "stream",
     "text": [
      "Lasso Regression estimator's score on the training set is: 0.0439594581424\n",
      "Lasso Regression estimator's score on the test set is: 0.0534207887922\n"
     ]
    }
   ],
   "source": [
    "lasso = LassoCV(fit_intercept=True, cv=5).fit(xtrain, ytrain)\n",
    "\n",
    "print('Lasso Regression estimator\\'s score on the training set is:',\n",
    "     lasso.score(xtrain, ytrain))\n",
    "\n",
    "print('Lasso Regression estimator\\'s score on the test set is:',\n",
    "     lasso.score(xtest, ytest))"
   ]
  },
  {
   "cell_type": "markdown",
   "metadata": {},
   "source": [
    "Lasso regression performs really poorly on both test and training data and clearly underperforms Linear Regression"
   ]
  },
  {
   "cell_type": "markdown",
   "metadata": {},
   "source": [
    "### Ridge Regression"
   ]
  },
  {
   "cell_type": "code",
   "execution_count": 7,
   "metadata": {},
   "outputs": [
    {
     "name": "stdout",
     "output_type": "stream",
     "text": [
      "Ridge Regression estimator's score on the training set is: 0.765001838187\n",
      "Ridge Regression estimator's score on the test set is: 0.702764031499\n"
     ]
    }
   ],
   "source": [
    "ridge = RidgeCV(fit_intercept=True, cv=5).fit(xtrain, ytrain)\n",
    "\n",
    "print('Ridge Regression estimator\\'s score on the training set is:',\n",
    "     ridge.score(xtrain, ytrain))\n",
    "\n",
    "print('Ridge Regression estimator\\'s score on the test set is:',\n",
    "     ridge.score(xtest, ytest))"
   ]
  },
  {
   "cell_type": "markdown",
   "metadata": {},
   "source": [
    "It appears that Ridge regression significantly performs about as well as the Linear Regression"
   ]
  },
  {
   "cell_type": "markdown",
   "metadata": {},
   "source": [
    "## Trees and Gradient Boosting"
   ]
  },
  {
   "cell_type": "markdown",
   "metadata": {},
   "source": [
    "### Decision Tree Regressor"
   ]
  },
  {
   "cell_type": "code",
   "execution_count": 8,
   "metadata": {},
   "outputs": [
    {
     "name": "stdout",
     "output_type": "stream",
     "text": [
      "The cross validated max depth of the Decision Tree Regressor is: 7\n",
      "Decision Tree Regressor's score on the training set: 0.74326698995\n",
      "Decision Tree Regressor's score on the test set: 0.504114040828\n"
     ]
    }
   ],
   "source": [
    "# find cross validated max depth\n",
    "tree = DecisionTreeRegressor()\n",
    "depths = [i for i in range(2, 11)]\n",
    "tree_param_gree = {'max_depth': depths}\n",
    "tree_cv = GridSearchCV(tree, param_grid=tree_param_gree, n_jobs=-1, cv=5)\n",
    "# fit to training data\n",
    "tree_cv.fit(xtrain, ytrain)\n",
    "\n",
    "print('The cross validated max depth of the Decision Tree Regressor is:',\n",
    "     tree_cv.best_params_.get('max_depth'))\n",
    "\n",
    "print('Decision Tree Regressor\\'s score on the training set:',\n",
    "     tree_cv.score(xtrain, ytrain))\n",
    "\n",
    "print('Decision Tree Regressor\\'s score on the test set:',\n",
    "     tree_cv.score(xtest, ytest))"
   ]
  },
  {
   "cell_type": "markdown",
   "metadata": {},
   "source": [
    "It appears that the simple Decision Tree estimator performs worse than the Ridge and Linear Regressions"
   ]
  },
  {
   "cell_type": "markdown",
   "metadata": {},
   "source": [
    "### Random Forest"
   ]
  },
  {
   "cell_type": "code",
   "execution_count": 9,
   "metadata": {},
   "outputs": [
    {
     "name": "stdout",
     "output_type": "stream",
     "text": [
      "The optimal number of trees and max features for RF estimator are: 800.0 & 0.8\n",
      "RF score on the training set is: 0.95519341536\n",
      "RF score on the test set is: 0.718894539457\n"
     ]
    }
   ],
   "source": [
    "# create dictionary of possible parameter values\n",
    "param_dict = OrderedDict(\n",
    "    n_estimators = [200, 400, 600, 800],\n",
    "    max_features = [0.2, 0.4, 0.6, 0.8])\n",
    "\n",
    "# use out of bag error to find best parameter combination\n",
    "results = {}\n",
    "estimators= {}\n",
    "for n, f in product(*param_dict.values()):\n",
    "    params = (n, f)\n",
    "    est = RandomForestRegressor(oob_score=True, \n",
    "                                n_estimators=n, max_features=f, n_jobs=-1)\n",
    "    est.fit(xtrain, ytrain)\n",
    "    results[params] = est.oob_score_\n",
    "    estimators[params] = est\n",
    "\n",
    "# get best parameter values\n",
    "outparams = max(results, key = results.get)\n",
    "\n",
    "print('The optimal number of trees and max features for RF estimator are: %0.1f & %0.1f' \n",
    "     %(outparams[0], outparams[1]))\n",
    "\n",
    "# get best estimator\n",
    "rf = estimators[outparams]\n",
    "\n",
    "print('RF score on the training set is:',\n",
    "     rf.score(xtrain, ytrain))\n",
    "\n",
    "print('RF score on the test set is:',\n",
    "     rf.score(xtest, ytest))"
   ]
  },
  {
   "cell_type": "markdown",
   "metadata": {},
   "source": [
    "The Random Forest estimator clearly outperforms a single Decision Tree on both the test and training set, and does slightly better than the Linear and Ridge regressions"
   ]
  },
  {
   "cell_type": "markdown",
   "metadata": {},
   "source": [
    "### Boosting"
   ]
  },
  {
   "cell_type": "code",
   "execution_count": 10,
   "metadata": {},
   "outputs": [
    {
     "data": {
      "text/plain": [
       "GridSearchCV(cv=5, error_score='raise',\n",
       "       estimator=GradientBoostingRegressor(alpha=0.9, criterion='friedman_mse', init=None,\n",
       "             learning_rate=0.1, loss='ls', max_depth=3, max_features=None,\n",
       "             max_leaf_nodes=None, min_impurity_split=1e-07,\n",
       "             min_samples_leaf=1, min_samples_split=2,\n",
       "             min_weight_fraction_leaf=0.0, n_estimators=3000,\n",
       "             presort='auto', random_state=None, subsample=1.0, verbose=0,\n",
       "             warm_start=False),\n",
       "       fit_params={}, iid=True, n_jobs=-1,\n",
       "       param_grid={'learning_rate': [0.001, 0.01, 0.1], 'max_features': [0.2, 0.4, 0.6, 0.8], 'max_depth': [1, 3, 6]},\n",
       "       pre_dispatch='2*n_jobs', refit=True, return_train_score=True,\n",
       "       scoring=None, verbose=0)"
      ]
     },
     "execution_count": 10,
     "metadata": {},
     "output_type": "execute_result"
    }
   ],
   "source": [
    "# create estimator\n",
    "gb = GradientBoostingRegressor(n_estimators=3000)\n",
    "\n",
    "# create parameter grid to cross validate\n",
    "# following the advice in the lab we use a large number of trees and do not optimize min_sample_leaf as its redundant \n",
    "# with max_depth. \n",
    "\n",
    "param_grid = {'learning_rate': [0.001, 0.01, 0.1],\n",
    "              'max_features': [0.2, 0.4, 0.6, 0.8],\n",
    "              'max_depth': [1, 3, 6],\n",
    "              }\n",
    "# use grid search cv to cross validate\n",
    "gb_cv = GridSearchCV(gb, param_grid, cv=5, n_jobs=-1)\n",
    "gb_cv.fit(xtrain, ytrain)"
   ]
  },
  {
   "cell_type": "code",
   "execution_count": 11,
   "metadata": {},
   "outputs": [
    {
     "name": "stdout",
     "output_type": "stream",
     "text": [
      "The optimal learning rate, max depth, and max features for the Gradient Boosting estimator are: 0.010000, 6.0 & 0.4\n",
      "Gradient Boosting estimator's score on the training set is: 0.965179908418\n",
      "Gradient Boosting estimator's score on the test set is: 0.722487297994\n"
     ]
    }
   ],
   "source": [
    "print('The optimal learning rate, max depth, and max features for the Gradient Boosting estimator are: %f, %0.1f & %0.1f' \n",
    "     %(gb_cv.best_params_.get('learning_rate'), gb_cv.best_params_.get('max_depth') ,gb_cv.best_params_.get('max_features')))\n",
    "\n",
    "print('Gradient Boosting estimator\\'s score on the training set is:',\n",
    "     gb_cv.score(xtrain, ytrain))\n",
    "\n",
    "print('Gradient Boosting estimator\\'s score on the test set is:',\n",
    "     gb_cv.score(xtest, ytest))"
   ]
  },
  {
   "cell_type": "markdown",
   "metadata": {},
   "source": [
    "It appears that the Gradient Boosting estimators slightly outperforms the Random Forest estimator on the training and test set"
   ]
  },
  {
   "cell_type": "markdown",
   "metadata": {},
   "source": [
    "## Stacking"
   ]
  },
  {
   "cell_type": "code",
   "execution_count": 12,
   "metadata": {
    "collapsed": true
   },
   "outputs": [],
   "source": [
    "models = [tree_cv, rf, gb_cv, linear, lasso, ridge]\n",
    "\n",
    "# Create data set of predictions\n",
    "predictions_train = np.zeros((xtrain.shape[0], len(models)))\n",
    "predictions_test = np.zeros((xtest.shape[0], len(models)))\n",
    "\n",
    "# store the prediction each model \n",
    "\n",
    "for i in range(len(models)):\n",
    "    predictions_train[:,i] = models[i].predict(xtrain)\n",
    "    predictions_test[:,i] = models[i].predict(xtest)"
   ]
  },
  {
   "cell_type": "markdown",
   "metadata": {},
   "source": [
    "### Stacked Lasso"
   ]
  },
  {
   "cell_type": "code",
   "execution_count": 13,
   "metadata": {},
   "outputs": [
    {
     "name": "stdout",
     "output_type": "stream",
     "text": [
      "Stacked Lasso Regression estimator's score on the training set is: 0.986287494232\n",
      "Stacked Lasso Regression estimator's score on the test set is: 0.713117772029\n"
     ]
    }
   ],
   "source": [
    "# Stacked Lasso\n",
    "stack_lasso = LassoCV(cv=5)\n",
    "stack_lasso.fit(predictions_train, ytrain)\n",
    "\n",
    "print('Stacked Lasso Regression estimator\\'s score on the training set is:',\n",
    "     stack_lasso.score(predictions_train, ytrain))\n",
    "\n",
    "print('Stacked Lasso Regression estimator\\'s score on the test set is:',\n",
    "     stack_lasso.score(predictions_test, ytest))"
   ]
  },
  {
   "cell_type": "markdown",
   "metadata": {},
   "source": [
    "### Stacked Ridge"
   ]
  },
  {
   "cell_type": "code",
   "execution_count": 14,
   "metadata": {},
   "outputs": [
    {
     "name": "stdout",
     "output_type": "stream",
     "text": [
      "Stacked Ridge Regression estimator's score on the training set is: 0.986476884867\n",
      "Stacked Ridge Regression estimator's score on the test set is: 0.713748634317\n"
     ]
    }
   ],
   "source": [
    "stack_ridge = RidgeCV(cv=5)\n",
    "\n",
    "stack_ridge.fit(predictions_train, ytrain)\n",
    "\n",
    "print('Stacked Ridge Regression estimator\\'s score on the training set is:',\n",
    "     stack_ridge.score(predictions_train, ytrain))\n",
    "\n",
    "print('Stacked Ridge Regression estimator\\'s score on the test set is:',\n",
    "     stack_ridge.score(predictions_test, ytest))"
   ]
  },
  {
   "cell_type": "markdown",
   "metadata": {},
   "source": [
    "### Stacked Random Forest"
   ]
  },
  {
   "cell_type": "code",
   "execution_count": 15,
   "metadata": {},
   "outputs": [
    {
     "name": "stdout",
     "output_type": "stream",
     "text": [
      "The optimal number of trees and max features for RF estimator are: 400.0 & 0.8\n",
      "Stacked RF score on the training set is: 0.998214481645\n",
      "Stakced RF score on the test set is: 0.713514059896\n"
     ]
    }
   ],
   "source": [
    "# create dictionary of possible parameter values\n",
    "s_param_dict = OrderedDict(\n",
    "    n_estimators = [200, 400, 600, 800],\n",
    "    max_features = [0.2, 0.4, 0.6, 0.8])\n",
    "\n",
    "# use out of bag error to find best parameter combination\n",
    "s_results = {}\n",
    "s_estimators= {}\n",
    "for n, f in product(*s_param_dict.values()):\n",
    "    s_params = (n, f)\n",
    "    s_est = RandomForestRegressor(oob_score=True, \n",
    "                                n_estimators=n, max_features=f, n_jobs=-1)\n",
    "    s_est.fit(predictions_train, ytrain)\n",
    "    s_results[s_params] = s_est.oob_score_\n",
    "    s_estimators[s_params] = s_est\n",
    "\n",
    "# get best parameter values\n",
    "s_outparams = max(s_results, key = s_results.get)\n",
    "\n",
    "print('The optimal number of trees and max features for RF estimator are: %0.1f & %0.1f' \n",
    "     %(s_outparams[0], s_outparams[1]))\n",
    "\n",
    "# get best estimator\n",
    "stacked_rf = s_estimators[s_outparams]\n",
    "\n",
    "print('Stacked RF score on the training set is:',\n",
    "     stacked_rf.score(predictions_train, ytrain))\n",
    "\n",
    "print('Stakced RF score on the test set is:',\n",
    "     stacked_rf.score(predictions_test, ytest))"
   ]
  },
  {
   "cell_type": "markdown",
   "metadata": {},
   "source": [
    "### Stacked Boosting"
   ]
  },
  {
   "cell_type": "code",
   "execution_count": 16,
   "metadata": {},
   "outputs": [
    {
     "name": "stdout",
     "output_type": "stream",
     "text": [
      "The optimal learning rate, max depth, and max features for the Gradient Boosting estimator are: 0.010000, 3.0 & 0.8\n",
      "Gradient Boosting estimator's score on the training set is: 0.995637426977\n",
      "Gradient Boosting estimator's score on the test set is: 0.715357246931\n"
     ]
    }
   ],
   "source": [
    "# create estimator\n",
    "s_gb = GradientBoostingRegressor(n_estimators=3000)\n",
    "\n",
    "# create parameter grid to cross validate\n",
    "# following the advice in the lab we use a large number of trees and do not optimize min_sample_leaf as its redundant \n",
    "# with max_depth. \n",
    "\n",
    "s_param_grid = {'learning_rate': [0.001, 0.01, 0.1],\n",
    "              'max_features': [0.2, 0.4, 0.6, 0.8],\n",
    "              'max_depth': [1, 3, 6],\n",
    "              }\n",
    "# use grid search cv to cross validate\n",
    "s_gb_cv = GridSearchCV(s_gb, s_param_grid, cv=5, n_jobs=-1)\n",
    "s_gb_cv.fit(predictions_train, ytrain)\n",
    "\n",
    "print('The optimal learning rate, max depth, and max features for the Gradient Boosting estimator are: %f, %0.1f & %0.1f' \n",
    "     %(s_gb_cv.best_params_.get('learning_rate'), s_gb_cv.best_params_.get('max_depth'),\n",
    "       s_gb_cv.best_params_.get('max_features')))\n",
    "\n",
    "\n",
    "print('Gradient Boosting estimator\\'s score on the training set is:',\n",
    "     s_gb_cv.score(predictions_train, ytrain))\n",
    "\n",
    "print('Gradient Boosting estimator\\'s score on the test set is:',\n",
    "     s_gb_cv.score(predictions_test, ytest))"
   ]
  },
  {
   "cell_type": "markdown",
   "metadata": {},
   "source": [
    "It appears that Stacking our existing models improves prediction on the training set substantially but, does not improve upon the Randon Forest or Boosting estimators"
   ]
  }
 ],
 "metadata": {
  "celltoolbar": "Edit Metadata",
  "kernelspec": {
   "display_name": "Python 3",
   "language": "python",
   "name": "python3"
  },
  "language_info": {
   "codemirror_mode": {
    "name": "ipython",
    "version": 3
   },
   "file_extension": ".py",
   "mimetype": "text/x-python",
   "name": "python",
   "nbconvert_exporter": "python",
   "pygments_lexer": "ipython3",
   "version": "3.6.1"
  }
 },
 "nbformat": 4,
 "nbformat_minor": 2
}
