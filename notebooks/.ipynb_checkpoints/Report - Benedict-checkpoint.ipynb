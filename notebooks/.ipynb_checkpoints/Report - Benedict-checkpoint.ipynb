{
 "cells": [
  {
   "cell_type": "markdown",
   "metadata": {},
   "source": [
    "## Problem Statement"
   ]
  },
  {
   "cell_type": "markdown",
   "metadata": {},
   "source": [
    "For this project, we would like to look into the predictive significance of census data on the murder rate per 100 thousand residents in each Metropolitan Statistical Area across America, using every MSA in the United States from 2006-2016 as an element to evaluate. The data that we will analyze includes location and regional data, education datae, family makeup, income, race, and other socioeconomic identifiers."
   ]
  },
  {
   "cell_type": "markdown",
   "metadata": {},
   "source": [
    "## Introduction and Description of the Data"
   ]
  },
  {
   "cell_type": "markdown",
   "metadata": {},
   "source": [
    "Analyzing crime data in the United States is incredibly important for policy makers who want to implement effective methods of reducing crime. Among crime statistics, the most reliable metric is murder rate. While different groups may report robberies and assaults at different rates, it is hard to hide a body. Therefore, by predicting murder rates, one can learn a lot about the underlying socioeconomic and geographic factors that lead to murder. \n",
    "\n",
    "However, this is also a challenging problem due to geographic segregation. Many of these variables are highly correlated, lower income is correlated with lower education levels, and some parts of the countries are poorer than others. Therefore, to construct a clear picture of what is influencing murder rates, one must be careful to include as many important predictors as possible. \n",
    "\n",
    "Through review of literature and EDA, we found that the variables most used to predict murder rates fell into a few categories: income, race, gender, education level, family makeup, geographical indicators, and measures of inequality among these metrics. _______ say something more about how EDA influenced this decision making _______ \n",
    "\n",
    "Have this from milestone 3: \n",
    "\n",
    "From preliminary EDA and research, we will give an in depth look at metrics that determine inequality, poverty and many demographic indicators. The initial data suggests that variations from the status quo such as high unemployment, single mother households, and massive inequality lead to higher murder rates, while more educated and riched areas lead to lower murder rate. We will explore this phenomenon further through constructing accurate models to describe the data, and carrying out statistical inference procedures. \n"
   ]
  },
  {
   "cell_type": "markdown",
   "metadata": {},
   "source": [
    "## Literature Review / Related Sources"
   ]
  },
  {
   "cell_type": "markdown",
   "metadata": {},
   "source": [
    "Throw in whatever information you have here"
   ]
  },
  {
   "cell_type": "markdown",
   "metadata": {},
   "source": [
    "## Data Parsing"
   ]
  },
  {
   "cell_type": "markdown",
   "metadata": {},
   "source": [
    "This data came primarily from two sources, the FBI website and the IPUMS data source. While the IPUMS data had much more substantive MSA data than ACS"
   ]
  },
  {
   "cell_type": "markdown",
   "metadata": {},
   "source": [
    "## Modeling Approach and Project Trajectory"
   ]
  },
  {
   "cell_type": "code",
   "execution_count": null,
   "metadata": {
    "collapsed": true
   },
   "outputs": [],
   "source": []
  }
 ],
 "metadata": {
  "anaconda-cloud": {},
  "kernelspec": {
   "display_name": "Python 3",
   "language": "python",
   "name": "python3"
  },
  "language_info": {
   "codemirror_mode": {
    "name": "ipython",
    "version": 3
   },
   "file_extension": ".py",
   "mimetype": "text/x-python",
   "name": "python",
   "nbconvert_exporter": "python",
   "pygments_lexer": "ipython3",
   "version": "3.6.1"
  }
 },
 "nbformat": 4,
 "nbformat_minor": 1
}
